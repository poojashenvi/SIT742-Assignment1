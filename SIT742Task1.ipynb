{
  "nbformat": 4,
  "nbformat_minor": 0,
  "metadata": {
    "colab": {
      "name": "SIT742Task1.ipynb",
      "version": "0.3.2",
      "provenance": [],
      "collapsed_sections": [],
      "toc_visible": true
    },
    "kernelspec": {
      "display_name": "Python 3.5",
      "name": "python3",
      "language": "python"
    }
  },
  "cells": [
    {
      "metadata": {
        "id": "Egq5-ESYAL0h",
        "colab_type": "text"
      },
      "cell_type": "markdown",
      "source": [
        "# SIT742: Modern Data Science \n",
        "**(Assessment Task 01: Wine Rating Data Exploration)**\n",
        "\n",
        "---\n",
        "- Materials in this module include resources collected from various open-source online repositories.\n",
        "- You are free to use, change and distribute this package.\n",
        "\n",
        "Prepared by **SIT742 Teaching Team**\n",
        "\n",
        "\n",
        "---\n",
        "\n",
        "**Student Information:** Please fill your information below\n",
        "\n",
        "- Name: Pooja Bhat\n",
        "- Student ID: 218545396\n",
        "- Email: pabhat@deakin.edu.au\n",
        "\n",
        "---"
      ]
    },
    {
      "metadata": {
        "id": "-6gZkyThAL0l",
        "colab_type": "text"
      },
      "cell_type": "markdown",
      "source": [
        "# Part 0. Data Files\n",
        "\n",
        "## 0.1 Download Data  "
      ]
    },
    {
      "metadata": {
        "id": "aUqxkJeKAL0p",
        "colab_type": "code",
        "colab": {}
      },
      "cell_type": "code",
      "source": [
        "!pip install wget  "
      ],
      "execution_count": 0,
      "outputs": []
    },
    {
      "metadata": {
        "id": "latXNVRmAL0z",
        "colab_type": "code",
        "colab": {}
      },
      "cell_type": "code",
      "source": [
        "import wget\n",
        "\n",
        "link_to_data = 'https://github.com/tulip-lab/sit742/raw/master/Assessment/2019/data/wine.json'\n",
        "DataSet = wget.download(link_to_data)\n",
        "\n",
        "link_to_data = 'https://github.com/tulip-lab/sit742/raw/master/Assessment/2019/data/stopwords.txt'\n",
        "\n",
        "DataSet = wget.download(link_to_data)"
      ],
      "execution_count": 0,
      "outputs": []
    },
    {
      "metadata": {
        "id": "rWw9mOXnAL06",
        "colab_type": "code",
        "colab": {}
      },
      "cell_type": "code",
      "source": [
        "!ls"
      ],
      "execution_count": 0,
      "outputs": []
    },
    {
      "metadata": {
        "colab_type": "text",
        "id": "oNT3z7_d0E2A"
      },
      "cell_type": "markdown",
      "source": [
        "## 0.2 Load Data  "
      ]
    },
    {
      "metadata": {
        "colab_type": "code",
        "id": "iuZOT5Uc0E2B",
        "colab": {}
      },
      "cell_type": "code",
      "source": [
        "import json\n",
        "import pandas as pd\n",
        "import matplotlib.pyplot as plt"
      ],
      "execution_count": 0,
      "outputs": []
    },
    {
      "metadata": {
        "colab_type": "code",
        "id": "rykuKlUD0E2E",
        "colab": {}
      },
      "cell_type": "code",
      "source": [
        "file = 'wine.json'"
      ],
      "execution_count": 0,
      "outputs": []
    },
    {
      "metadata": {
        "colab_type": "code",
        "id": "yhSNRInw0E2F",
        "colab": {}
      },
      "cell_type": "code",
      "source": [
        "# write your code here\n",
        "# read the json file and drop rows with invalid values in the attributes of 'points' and 'price'.\n",
        "winedf_1 = pd.read_json(\"wine.json\")\n",
        "\n",
        "# check if there are nulls in price and points attributes\n",
        "print(winedf_1.isnull().any())\n",
        "# output shows that price attribute has nulls, but point attribute doesnt have any nulls\n",
        "\n",
        "#drop nulls from price attribute\n",
        "winedf_1.dropna(subset=['price'],inplace=True)\n",
        "\n",
        "# confirm that null rows are dropped from price attribute\n",
        "print('-------------------------------------')\n",
        "print('With Nulls dropped in price attribute')\n",
        "print('-------------------------------------')\n",
        "print(winedf_1.isnull().any())"
      ],
      "execution_count": 0,
      "outputs": []
    },
    {
      "metadata": {
        "colab_type": "text",
        "id": "p-Mn2BCV0E2J"
      },
      "cell_type": "markdown",
      "source": [
        "# Part 1: numeric anaysis"
      ]
    },
    {
      "metadata": {
        "colab_type": "text",
        "id": "NnyyHM280E2J"
      },
      "cell_type": "markdown",
      "source": [
        "## 1.1 Explore the data distribution for each column."
      ]
    },
    {
      "metadata": {
        "colab_type": "code",
        "id": "XLgAFg_K0E2K",
        "colab": {}
      },
      "cell_type": "code",
      "source": [
        "# write your code here\n",
        "# you may use functions such as describe() on each attribute\n",
        "\n",
        "# Check the datatypes of each of the attributes\n",
        "print('-------------------------------------')\n",
        "print('Understanding datatypes of attributes')\n",
        "print('-------------------------------------')\n",
        "print(winedf_1.info())\n",
        "print('Output shows that only Price and points are numeric attributes')\n",
        "print('\\n')\n",
        "\n",
        "print('-------------------------------------')\n",
        "print('Ratings by coutries, ')\n",
        "print('-------------------------------------')\n",
        "print(winedf_1['country'].value_counts())\n",
        "print('Output shows that maximum number of ratings are from US, follwed by France and Italy')\n",
        "print('\\n')\n",
        "\n",
        "print('-------------------------------------')\n",
        "print('Reviewers counts')\n",
        "print('-------------------------------------')\n",
        "print(winedf_1['taster_twitter_handle'].value_counts())\n",
        "print('Output shows @vossroger has the highest number of reviews followed by @wineschach')\n",
        "print('\\n')\n",
        "\n",
        "print('--------------------------------------------')\n",
        "print('Overall data distribution summary statistics')\n",
        "print('--------------------------------------------')\n",
        "winedf_1.describe()"
      ],
      "execution_count": 0,
      "outputs": []
    },
    {
      "metadata": {
        "id": "sxC8B8mTszY-",
        "colab_type": "text"
      },
      "cell_type": "markdown",
      "source": [
        "**Observations from the Data Distribution**\n",
        "\n",
        "1) Price and Points are numeric attributes, all other attributes are categorical attributes \n",
        "\n",
        "2) Maximum number of ratings are from US, follwed by France and Italy\n",
        "\n",
        "3) Reviewer @vossroger has the highest number of reviews followed by @wineschach\n",
        "\n",
        "4) The Summary Statistic for Points shows that the maximum points awarded to wines were 100 and minimum were 80 with a mean of 88.42 and a standard deviation of 3.044508. The middle 50% of the data was between 86 and 91 points.\n",
        "\n",
        "4) The Summary Statistic for Price shows that the maximum priceof wine was 3,300 dollars and minimum was 4 dollars with a mean of 35.36 dollars and a standard deviation of 41.02 dollars. The middle 50% of the price was between 17 and 42 dollars."
      ]
    },
    {
      "metadata": {
        "colab_type": "text",
        "id": "8traKPor0E2a"
      },
      "cell_type": "markdown",
      "source": [
        "## 1.2 Find the 10 varieties of wine which receives the highest number of  reviews"
      ]
    },
    {
      "metadata": {
        "scrolled": true,
        "colab_type": "code",
        "id": "uTjM_Jmt0E2a",
        "colab": {}
      },
      "cell_type": "code",
      "source": [
        "# write your code here\n",
        "# you may use functions such as value_counts()  \n",
        "print('--------------------------------------------')\n",
        "print('10 Wine Varieties with highest reviews')\n",
        "print('--------------------------------------------')\n",
        "winedf_1['variety'].value_counts().head(10)"
      ],
      "execution_count": 0,
      "outputs": []
    },
    {
      "metadata": {
        "colab_type": "text",
        "id": "RtpXXUrv0E2c"
      },
      "cell_type": "markdown",
      "source": [
        "## 1.3 Find varieties of wine having the average price less than 20, with the average points at least 90"
      ]
    },
    {
      "metadata": {
        "colab_type": "code",
        "id": "KgdpRAfs0E2d",
        "colab": {}
      },
      "cell_type": "code",
      "source": [
        "# write your code here\n",
        "# you may use functions such as groupby() \n",
        "print('----------------------------------------------------------------------------')\n",
        "print('Wine Varieties with average price less than 20 and average points atleast 90')\n",
        "print('----------------------------------------------------------------------------')\n",
        "grouped_variety=winedf_1.groupby('variety')[['price','points']].mean()\n",
        "grouped_variety[(grouped_variety.price < 20) & (grouped_variety.points>=90)]"
      ],
      "execution_count": 0,
      "outputs": []
    },
    {
      "metadata": {
        "colab_type": "text",
        "id": "mDwpR_tjYXrh"
      },
      "cell_type": "markdown",
      "source": [
        "## 1.3 Build statistic table"
      ]
    },
    {
      "metadata": {
        "scrolled": true,
        "colab_type": "code",
        "id": "IPKIEonM0E2j",
        "colab": {}
      },
      "cell_type": "code",
      "source": [
        "# write your code here\n",
        "# you may use functions such as groupby() and round(decimals=2)\n",
        "# First we will group by country's to find the variety of wines that have the higest reviews\n",
        "grouped_country_1=winedf_1.groupby('country').apply(lambda x: x['variety'].value_counts() == x['variety'].value_counts().max()).reset_index(name='variety')\n",
        "grouped_country_variety=grouped_country_1.loc[grouped_country_1['variety'] == True].drop(columns=['variety'])\n",
        "grouped_country_variety=grouped_country_variety.rename(columns={\"level_1\": \"variety\"})\n",
        "#print(grouped_country_variety)\n",
        "grouped_country_variety=grouped_country_variety.groupby('country', as_index=False).agg(lambda x: ', '.join(set(x.dropna())))\n",
        "#print(grouped_country_variety)\n",
        "\n",
        "# Next we will group by country to find the average of price and points for that country \n",
        "grouped_country_2=winedf_1.groupby(['country'])[['points','price']].mean().round(decimals=2)\n",
        "grouped_country_2=grouped_country_2.reset_index()\n",
        "#print(grouped_country_2)\n",
        "\n",
        "# We will merge the 2 dataframes to create a single dataframe, that will help us with deciding the best wine for recmmending hotel Tulip\n",
        "result_df = pd.merge(grouped_country_variety, grouped_country_2,\n",
        "                 on='country')\n",
        "\n",
        "# Sort result by points\n",
        "#print(\"Sort result by Points\")\n",
        "#print(result_df.sort_values(by=['points'],ascending=False))\n",
        "\n",
        "# Sort result by price\n",
        "#print(\"Sort result by Price\")\n",
        "#print(result_df.sort_values(by=['price'],ascending=False))\n",
        "\n",
        "result_df.columns = ['Country', 'Variety','AvgPoint','AvgPrice']\n",
        "result_df.sort_values(by=['AvgPoint'],ascending=False)\n",
        "\n"
      ],
      "execution_count": 0,
      "outputs": []
    },
    {
      "metadata": {
        "id": "oJIAWJDnzO_c",
        "colab_type": "text"
      },
      "cell_type": "markdown",
      "source": [
        "**Recommendations to Hotel *TULIP* **\n",
        "\n",
        "Based on this analysis, I will advise hotel *Tulip* to order from India since the avergage points are the second higest and the average price is very reasonable at $13.33\n",
        "\n",
        "Next, I would also recommend ordering from China, since the reviewers gave it a high rating of 89 points and the price was reasonable at $18.\n",
        "\n",
        "Although, the above analysis on the ratings by country shows that India only had 9 reviews and Chine only had 1 review. \n",
        "\n",
        "I would also encourage Hotel Tulip to have some fine wines from countries with higher number of reviews such as Austria and Germany which have considerably high avergage ratings of 90.19 and 89.84 and the prices are between 30.76 and 42.26 respetively\n",
        "\n"
      ]
    },
    {
      "metadata": {
        "colab_type": "code",
        "id": "JuMzX7100E2l",
        "colab": {}
      },
      "cell_type": "code",
      "source": [
        "# save your table to 'statisticByState.csv'\n",
        "result_df.to_csv(r'statisticByState.csv',index=False,encoding=\"utf-8-sig\")"
      ],
      "execution_count": 0,
      "outputs": []
    },
    {
      "metadata": {
        "colab_type": "text",
        "id": "2pM--l1C0E2n"
      },
      "cell_type": "markdown",
      "source": [
        "# Part 2. Text Analysis\n",
        "\n",
        "## 2.1 extract high requency words in description"
      ]
    },
    {
      "metadata": {
        "colab_type": "code",
        "id": "Yj_6QJv00E2o",
        "colab": {}
      },
      "cell_type": "code",
      "source": [
        "import re\n",
        "import nltk\n",
        "from nltk.tokenize import RegexpTokenizer\n",
        "from nltk.probability import *\n",
        "from itertools import chain\n",
        "#from tqdm import tqdm\n",
        "import codecs"
      ],
      "execution_count": 0,
      "outputs": []
    },
    {
      "metadata": {
        "colab_type": "code",
        "id": "dhEPsrZi0E2p",
        "colab": {}
      },
      "cell_type": "code",
      "source": [
        "with open('stopwords.txt') as f:\n",
        "    stop_words = f.read().splitlines()\n",
        "stop_words = set(stop_words)"
      ],
      "execution_count": 0,
      "outputs": []
    },
    {
      "metadata": {
        "colab_type": "code",
        "id": "G4npAbiy0E2r",
        "colab": {}
      },
      "cell_type": "code",
      "source": [
        "# write your code here\n",
        "# define your tokenize\n",
        "winedf_tokenized=winedf_1.copy()\n",
        "tokenizer = RegexpTokenizer(r\"\\w+(?:[-']\\w+)?\") \n",
        "winedf_tokenized['description']=winedf_tokenized['description'].apply(tokenizer.tokenize)\n",
        "#winedf_tokenized['description']=winedf_tokenized['description'].apply(lambda x: [item.lower() for item in x if item.lower() not in stop_words and item.isalpha()])\n",
        "winedf_tokenized['description']=winedf_tokenized['description'].apply(lambda x: [item.lower() for item in x if item.lower() not in stop_words])\n",
        "winedf_tokenized.head(10)"
      ],
      "execution_count": 0,
      "outputs": []
    },
    {
      "metadata": {
        "id": "z7O6lPb1XSnd",
        "colab_type": "text"
      },
      "cell_type": "markdown",
      "source": [
        ""
      ]
    },
    {
      "metadata": {
        "colab_type": "code",
        "id": "p3Wv41wU0E2v",
        "colab": {}
      },
      "cell_type": "code",
      "source": [
        "# find top common words with document frequencies > 5000\n",
        "# you may use function FreqDist() and sort()\n",
        "from __future__ import division\n",
        "from itertools import chain\n",
        "\n",
        "winedf_tokenized_freq=winedf_tokenized['description'].copy()\n",
        "words = list(chain.from_iterable(winedf_tokenized_freq))\n",
        "Frequent_words=FreqDist(words)\n",
        "\n",
        "#Most common 100 words\n",
        "#print(Frequent_words.most_common(100))\n",
        "\n",
        "MostFreqWords = set([k for k, v in Frequent_words.items() if v >5000])\n",
        "MostFreqWords"
      ],
      "execution_count": 0,
      "outputs": []
    },
    {
      "metadata": {
        "colab_type": "code",
        "id": "S_0fhtMy0E21",
        "colab": {}
      },
      "cell_type": "code",
      "source": [
        "# save your table to 'top_common_words.txt'  \n",
        "with open('HighFreq.txt', 'w') as f:\n",
        "    for item in sorted(MostFreqWords):\n",
        "        f.write(\"%s\\n\" % item)\n",
        "        print(item)"
      ],
      "execution_count": 0,
      "outputs": []
    },
    {
      "metadata": {
        "colab_type": "text",
        "id": "rItgiUiW0E22"
      },
      "cell_type": "markdown",
      "source": [
        "## 2.2 Find key words for describing Shiraz using TF-IDF"
      ]
    },
    {
      "metadata": {
        "colab_type": "code",
        "id": "k19yjNax0E23",
        "colab": {}
      },
      "cell_type": "code",
      "source": [
        "# select 'description' from 'variety' equal to  'Shiraz' \n",
        "winedf_Shiraz=winedf_tokenized[winedf_tokenized['variety']==\"Shiraz\"]\n",
        "winedf_Shiraz_2=winedf_Shiraz.copy()\n",
        "winedf_Shiraz_2"
      ],
      "execution_count": 0,
      "outputs": []
    },
    {
      "metadata": {
        "colab_type": "code",
        "id": "rJjSoPYt0E25",
        "colab": {}
      },
      "cell_type": "code",
      "source": [
        "# use TfidfVectorizer to calculate TF-IDF score\n",
        "from sklearn.feature_extraction.text import TfidfVectorizer\n",
        "tfidf = TfidfVectorizer(analyzer='word', stop_words = stop_words) \n",
        "\n",
        "winedf_Shiraz_2['description_1']=winedf_Shiraz_2['description'].apply(lambda x: ' '.join(map(str,x)))\n",
        "tfs = tfidf.fit_transform(winedf_Shiraz_2['description_1'] )\n",
        "tfs.shape\n",
        "#print(winedf_Shiraz_2['description_1'])"
      ],
      "execution_count": 0,
      "outputs": []
    },
    {
      "metadata": {
        "scrolled": true,
        "colab_type": "code",
        "id": "f-81TMHm0E29",
        "colab": {}
      },
      "cell_type": "code",
      "source": [
        "# find words with TF-IDF score >0.4 and sort them\n",
        "my_list = []\n",
        "vocab = tfidf.get_feature_names()\n",
        "for i in range(tfs.shape[0]):\n",
        "    for word, weight in zip(vocab, tfs.toarray()[i]):\n",
        "        if weight > 0.4:\n",
        "            if word not in my_list:\n",
        "                print (word, \":\", weight)\n",
        "                my_list.append(word)\n",
        "            \n",
        "print(my_list)      \n"
      ],
      "execution_count": 0,
      "outputs": []
    },
    {
      "metadata": {
        "colab_type": "code",
        "id": "BkZRD-8j0E3B",
        "colab": {}
      },
      "cell_type": "code",
      "source": [
        "# save your table to 'key_Shiraz.txt'   \n",
        "with open('Shirazkey.txt', 'w') as f:\n",
        "    for item in sorted(my_list):\n",
        "        f.write(\"%s\\n\" % item)\n",
        "        print(item)"
      ],
      "execution_count": 0,
      "outputs": []
    }
  ]
}